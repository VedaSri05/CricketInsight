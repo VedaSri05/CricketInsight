{
 "cells": [
  {
   "cell_type": "markdown",
   "metadata": {},
   "source": [
    "### Import required libraries"
   ]
  },
  {
   "cell_type": "code",
   "execution_count": 1,
   "metadata": {},
   "outputs": [],
   "source": [
    "import pandas as pd"
   ]
  },
  {
   "cell_type": "markdown",
   "metadata": {},
   "source": [
    "### Load the data"
   ]
  },
  {
   "cell_type": "code",
   "execution_count": 2,
   "metadata": {},
   "outputs": [],
   "source": [
    "# Load the scraped data\n",
    "df = pd.read_csv(\"../data/bcci_odi_stats.csv\")"
   ]
  },
  {
   "cell_type": "code",
   "execution_count": 3,
   "metadata": {},
   "outputs": [
    {
     "name": "stdout",
     "output_type": "stream",
     "text": [
      "Initial Data Info:\n",
      "<class 'pandas.core.frame.DataFrame'>\n",
      "RangeIndex: 236 entries, 0 to 235\n",
      "Data columns (total 11 columns):\n",
      " #   Column         Non-Null Count  Dtype  \n",
      "---  ------         --------------  -----  \n",
      " 0   Name           236 non-null    object \n",
      " 1   Total Matches  236 non-null    int64  \n",
      " 2   Innings        236 non-null    int64  \n",
      " 3   Average Score  236 non-null    float64\n",
      " 4   Strike Rate    236 non-null    float64\n",
      " 5   Highest Score  236 non-null    object \n",
      " 6   Fours          236 non-null    object \n",
      " 7   Sixes          236 non-null    object \n",
      " 8   Fifties        236 non-null    object \n",
      " 9   Hundreds       236 non-null    object \n",
      " 10  Total Runs     236 non-null    int64  \n",
      "dtypes: float64(2), int64(3), object(6)\n",
      "memory usage: 20.4+ KB\n"
     ]
    }
   ],
   "source": [
    "# Display initial dataset information\n",
    "print(\"Initial Data Info:\")\n",
    "df.info()"
   ]
  },
  {
   "cell_type": "code",
   "execution_count": 4,
   "metadata": {},
   "outputs": [
    {
     "name": "stdout",
     "output_type": "stream",
     "text": [
      "\n",
      "First 5 rows before cleaning:\n"
     ]
    },
    {
     "data": {
      "text/html": [
       "<div>\n",
       "<style scoped>\n",
       "    .dataframe tbody tr th:only-of-type {\n",
       "        vertical-align: middle;\n",
       "    }\n",
       "\n",
       "    .dataframe tbody tr th {\n",
       "        vertical-align: top;\n",
       "    }\n",
       "\n",
       "    .dataframe thead th {\n",
       "        text-align: right;\n",
       "    }\n",
       "</style>\n",
       "<table border=\"1\" class=\"dataframe\">\n",
       "  <thead>\n",
       "    <tr style=\"text-align: right;\">\n",
       "      <th></th>\n",
       "      <th>Name</th>\n",
       "      <th>Total Matches</th>\n",
       "      <th>Innings</th>\n",
       "      <th>Average Score</th>\n",
       "      <th>Strike Rate</th>\n",
       "      <th>Highest Score</th>\n",
       "      <th>Fours</th>\n",
       "      <th>Sixes</th>\n",
       "      <th>Fifties</th>\n",
       "      <th>Hundreds</th>\n",
       "      <th>Total Runs</th>\n",
       "    </tr>\n",
       "  </thead>\n",
       "  <tbody>\n",
       "    <tr>\n",
       "      <th>0</th>\n",
       "      <td>Sachin TENDULKAR</td>\n",
       "      <td>463</td>\n",
       "      <td>452</td>\n",
       "      <td>44.83</td>\n",
       "      <td>86.23</td>\n",
       "      <td>200</td>\n",
       "      <td>2016</td>\n",
       "      <td>195</td>\n",
       "      <td>96</td>\n",
       "      <td>49</td>\n",
       "      <td>18426</td>\n",
       "    </tr>\n",
       "    <tr>\n",
       "      <th>1</th>\n",
       "      <td>Virat Kohli</td>\n",
       "      <td>297</td>\n",
       "      <td>285</td>\n",
       "      <td>57.93</td>\n",
       "      <td>93.52</td>\n",
       "      <td>183</td>\n",
       "      <td>1310</td>\n",
       "      <td>152</td>\n",
       "      <td>73</td>\n",
       "      <td>50</td>\n",
       "      <td>13963</td>\n",
       "    </tr>\n",
       "    <tr>\n",
       "      <th>2</th>\n",
       "      <td>Sourav Ganguly</td>\n",
       "      <td>311</td>\n",
       "      <td>300</td>\n",
       "      <td>41.02</td>\n",
       "      <td>73.70</td>\n",
       "      <td>183</td>\n",
       "      <td>1122</td>\n",
       "      <td>190</td>\n",
       "      <td>72</td>\n",
       "      <td>22</td>\n",
       "      <td>11363</td>\n",
       "    </tr>\n",
       "    <tr>\n",
       "      <th>3</th>\n",
       "      <td>Rohit Sharma</td>\n",
       "      <td>268</td>\n",
       "      <td>260</td>\n",
       "      <td>49.05</td>\n",
       "      <td>92.69</td>\n",
       "      <td>264</td>\n",
       "      <td>1024</td>\n",
       "      <td>338</td>\n",
       "      <td>57</td>\n",
       "      <td>32</td>\n",
       "      <td>10988</td>\n",
       "    </tr>\n",
       "    <tr>\n",
       "      <th>4</th>\n",
       "      <td>Rahul Dravid</td>\n",
       "      <td>344</td>\n",
       "      <td>318</td>\n",
       "      <td>39.16</td>\n",
       "      <td>71.23</td>\n",
       "      <td>153</td>\n",
       "      <td>950</td>\n",
       "      <td>42</td>\n",
       "      <td>83</td>\n",
       "      <td>12</td>\n",
       "      <td>10889</td>\n",
       "    </tr>\n",
       "  </tbody>\n",
       "</table>\n",
       "</div>"
      ],
      "text/plain": [
       "               Name  Total Matches  Innings  Average Score  Strike Rate  \\\n",
       "0  Sachin TENDULKAR            463      452          44.83        86.23   \n",
       "1       Virat Kohli            297      285          57.93        93.52   \n",
       "2    Sourav Ganguly            311      300          41.02        73.70   \n",
       "3      Rohit Sharma            268      260          49.05        92.69   \n",
       "4      Rahul Dravid            344      318          39.16        71.23   \n",
       "\n",
       "  Highest Score Fours Sixes Fifties Hundreds  Total Runs  \n",
       "0           200  2016   195      96       49       18426  \n",
       "1           183  1310   152      73       50       13963  \n",
       "2           183  1122   190      72       22       11363  \n",
       "3           264  1024   338      57       32       10988  \n",
       "4           153   950    42      83       12       10889  "
      ]
     },
     "execution_count": 4,
     "metadata": {},
     "output_type": "execute_result"
    }
   ],
   "source": [
    "# Show the first few rows\n",
    "print(\"\\nFirst 5 rows before cleaning:\")\n",
    "df.head()"
   ]
  },
  {
   "cell_type": "markdown",
   "metadata": {},
   "source": [
    "### Convert Numeric Columns to Proper Data Types"
   ]
  },
  {
   "cell_type": "code",
   "execution_count": 5,
   "metadata": {},
   "outputs": [
    {
     "name": "stdout",
     "output_type": "stream",
     "text": [
      "\n",
      "Updated Data Types:\n",
      "Name              object\n",
      "Total Matches      int64\n",
      "Innings            int64\n",
      "Average Score    float64\n",
      "Strike Rate      float64\n",
      "Highest Score    float64\n",
      "Fours            float64\n",
      "Sixes            float64\n",
      "Fifties          float64\n",
      "Hundreds         float64\n",
      "Total Runs         int64\n",
      "dtype: object\n"
     ]
    }
   ],
   "source": [
    "numeric_columns = [\"Total Matches\", \"Innings\", \"Average Score\", \"Strike Rate\", \"Highest Score\", \n",
    "                   \"Fours\", \"Sixes\", \"Fifties\", \"Hundreds\", \"Total Runs\"]\n",
    "\n",
    "df[numeric_columns] = df[numeric_columns].apply(pd.to_numeric, errors='coerce')\n",
    "\n",
    "# Verify data types after conversion\n",
    "print(\"\\nUpdated Data Types:\")\n",
    "print(df.dtypes)"
   ]
  },
  {
   "cell_type": "markdown",
   "metadata": {},
   "source": [
    "### Handle Missing Values"
   ]
  },
  {
   "cell_type": "code",
   "execution_count": 6,
   "metadata": {},
   "outputs": [
    {
     "name": "stdout",
     "output_type": "stream",
     "text": [
      "\n",
      "Missing Values in Each Column:\n"
     ]
    },
    {
     "data": {
      "text/plain": [
       "Name               0\n",
       "Total Matches      0\n",
       "Innings            0\n",
       "Average Score      0\n",
       "Strike Rate        0\n",
       "Highest Score      1\n",
       "Fours             50\n",
       "Sixes            112\n",
       "Fifties          136\n",
       "Hundreds         194\n",
       "Total Runs         0\n",
       "dtype: int64"
      ]
     },
     "execution_count": 6,
     "metadata": {},
     "output_type": "execute_result"
    }
   ],
   "source": [
    "print(\"\\nMissing Values in Each Column:\")\n",
    "df.isnull().sum()"
   ]
  },
  {
   "cell_type": "markdown",
   "metadata": {},
   "source": [
    "### Handle Missing Values"
   ]
  },
  {
   "cell_type": "code",
   "execution_count": 7,
   "metadata": {},
   "outputs": [
    {
     "name": "stdout",
     "output_type": "stream",
     "text": [
      "\n",
      "Missing Values After Filling:\n"
     ]
    },
    {
     "data": {
      "text/plain": [
       "Name             0\n",
       "Total Matches    0\n",
       "Innings          0\n",
       "Average Score    0\n",
       "Strike Rate      0\n",
       "Highest Score    0\n",
       "Fours            0\n",
       "Sixes            0\n",
       "Fifties          0\n",
       "Hundreds         0\n",
       "Total Runs       0\n",
       "dtype: int64"
      ]
     },
     "execution_count": 7,
     "metadata": {},
     "output_type": "execute_result"
    }
   ],
   "source": [
    "df.fillna(0, inplace=True)\n",
    "\n",
    "# Verify again if missing values are handled\n",
    "print(\"\\nMissing Values After Filling:\")\n",
    "df.isnull().sum()"
   ]
  },
  {
   "cell_type": "markdown",
   "metadata": {},
   "source": [
    "### Handle Outliers (Ensure No Negative Values)"
   ]
  },
  {
   "cell_type": "code",
   "execution_count": 8,
   "metadata": {},
   "outputs": [
    {
     "name": "stdout",
     "output_type": "stream",
     "text": [
      "\n",
      "Minimum Values in Each Column (Should Be >= 0):\n"
     ]
    },
    {
     "data": {
      "text/plain": [
       "Name                -\n",
       "Total Matches       1\n",
       "Innings             1\n",
       "Average Score     0.0\n",
       "Strike Rate      6.25\n",
       "Highest Score     0.0\n",
       "Fours             0.0\n",
       "Sixes             0.0\n",
       "Fifties           0.0\n",
       "Hundreds          0.0\n",
       "Total Runs          1\n",
       "dtype: object"
      ]
     },
     "execution_count": 8,
     "metadata": {},
     "output_type": "execute_result"
    }
   ],
   "source": [
    "for col in [\"Total Matches\", \"Innings\", \"Average Score\", \"Strike Rate\", \"Highest Score\", \n",
    "            \"Fours\", \"Sixes\", \"Fifties\", \"Hundreds\", \"Total Runs\"]:\n",
    "    df[col] = df[col].apply(lambda x: max(x, 0))  # If any value is negative, set it to 0\n",
    "\n",
    "# Verify that no negative values exist\n",
    "print(\"\\nMinimum Values in Each Column (Should Be >= 0):\")\n",
    "df.min()"
   ]
  },
  {
   "cell_type": "markdown",
   "metadata": {},
   "source": [
    "### Save the Cleaned Data"
   ]
  },
  {
   "cell_type": "code",
   "execution_count": 9,
   "metadata": {},
   "outputs": [
    {
     "name": "stdout",
     "output_type": "stream",
     "text": [
      "\n",
      "Data cleaning completed! Cleaned file saved as '../data/bcci_odi_stats_cleaned.csv'.\n"
     ]
    }
   ],
   "source": [
    "df.to_csv(\"../data/bcci_odi_stats_cleaned.csv\", index=False)\n",
    "\n",
    "print(\"\\nData cleaning completed! Cleaned file saved as '../data/bcci_odi_stats_cleaned.csv'.\")\n"
   ]
  }
 ],
 "metadata": {
  "kernelspec": {
   "display_name": "sports_env",
   "language": "python",
   "name": "python3"
  },
  "language_info": {
   "codemirror_mode": {
    "name": "ipython",
    "version": 3
   },
   "file_extension": ".py",
   "mimetype": "text/x-python",
   "name": "python",
   "nbconvert_exporter": "python",
   "pygments_lexer": "ipython3",
   "version": "3.11.9"
  }
 },
 "nbformat": 4,
 "nbformat_minor": 2
}
